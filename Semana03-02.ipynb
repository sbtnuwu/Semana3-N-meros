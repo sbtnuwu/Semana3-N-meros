{
 "cells": [
  {
   "cell_type": "markdown",
   "id": "2d17204c",
   "metadata": {},
   "source": [
    "Semana 3\n",
    "Rakauskas Purca, Sebastian Alberto"
   ]
  },
  {
   "cell_type": "markdown",
   "id": "aafbedae",
   "metadata": {},
   "source": [
    "1. Números\n",
    "2. Variables\n",
    "3. Manejo de cadenas\n",
    "4. Ingreso de datos por el teclado\n",
    "5. Operadores"
   ]
  },
  {
   "cell_type": "markdown",
   "id": "f4335a10",
   "metadata": {},
   "source": [
    "2. Variables"
   ]
  },
  {
   "cell_type": "code",
   "execution_count": 1,
   "id": "f57ab880",
   "metadata": {},
   "outputs": [],
   "source": [
    "nombre=\"Sebastian\""
   ]
  },
  {
   "cell_type": "code",
   "execution_count": 2,
   "id": "0a78639c",
   "metadata": {},
   "outputs": [
    {
     "data": {
      "text/plain": [
       "'Sebastian'"
      ]
     },
     "execution_count": 2,
     "metadata": {},
     "output_type": "execute_result"
    }
   ],
   "source": [
    "nombre"
   ]
  },
  {
   "cell_type": "code",
   "execution_count": 3,
   "id": "d3aef583",
   "metadata": {},
   "outputs": [],
   "source": [
    "apellido=\"Rakauskas Purca\""
   ]
  },
  {
   "cell_type": "code",
   "execution_count": 4,
   "id": "31fdb20f",
   "metadata": {},
   "outputs": [
    {
     "data": {
      "text/plain": [
       "'Rakauskas Purca'"
      ]
     },
     "execution_count": 4,
     "metadata": {},
     "output_type": "execute_result"
    }
   ],
   "source": [
    "apellido"
   ]
  },
  {
   "cell_type": "code",
   "execution_count": 5,
   "id": "89826f4a",
   "metadata": {},
   "outputs": [],
   "source": [
    "nombrecompleto=nombre+\"\"+apellido"
   ]
  },
  {
   "cell_type": "code",
   "execution_count": 6,
   "id": "5a526799",
   "metadata": {},
   "outputs": [
    {
     "data": {
      "text/plain": [
       "'SebastianRakauskas Purca'"
      ]
     },
     "execution_count": 6,
     "metadata": {},
     "output_type": "execute_result"
    }
   ],
   "source": [
    "nombrecompleto"
   ]
  },
  {
   "cell_type": "code",
   "execution_count": 7,
   "id": "7b3cd6a9",
   "metadata": {},
   "outputs": [],
   "source": [
    "nombrecompleto=nombre+\" \"+apellido"
   ]
  },
  {
   "cell_type": "code",
   "execution_count": 9,
   "id": "e8756b2e",
   "metadata": {},
   "outputs": [
    {
     "data": {
      "text/plain": [
       "'Sebastian Rakauskas Purca'"
      ]
     },
     "execution_count": 9,
     "metadata": {},
     "output_type": "execute_result"
    }
   ],
   "source": [
    "nombrecompleto"
   ]
  },
  {
   "cell_type": "code",
   "execution_count": null,
   "id": "32e00cb8",
   "metadata": {},
   "outputs": [],
   "source": []
  }
 ],
 "metadata": {
  "kernelspec": {
   "display_name": "Python 3 (ipykernel)",
   "language": "python",
   "name": "python3"
  },
  "language_info": {
   "codemirror_mode": {
    "name": "ipython",
    "version": 3
   },
   "file_extension": ".py",
   "mimetype": "text/x-python",
   "name": "python",
   "nbconvert_exporter": "python",
   "pygments_lexer": "ipython3",
   "version": "3.9.12"
  }
 },
 "nbformat": 4,
 "nbformat_minor": 5
}
