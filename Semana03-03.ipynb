{
 "cells": [
  {
   "cell_type": "markdown",
   "id": "d2b8f532",
   "metadata": {},
   "source": [
    "Semana 3\n",
    "Rakauskas Purca, Sebastian Alberto"
   ]
  },
  {
   "cell_type": "markdown",
   "id": "704080be",
   "metadata": {},
   "source": [
    "1. Números\n",
    "2. Variables\n",
    "3. Manejo de cadenas\n",
    "4. Ingreso de datos por el teclado\n",
    "5. Operadores"
   ]
  },
  {
   "cell_type": "markdown",
   "id": "9f40c2a1",
   "metadata": {},
   "source": [
    "3. Manejo de cadenas"
   ]
  },
  {
   "cell_type": "code",
   "execution_count": 4,
   "id": "241b238a",
   "metadata": {},
   "outputs": [],
   "source": [
    "cadena=\"Universidad Nacional Tencnológica de Lima Sur\""
   ]
  },
  {
   "cell_type": "code",
   "execution_count": 5,
   "id": "4bc9f941",
   "metadata": {},
   "outputs": [
    {
     "data": {
      "text/plain": [
       "'Universidad Nacional Tencnológica de Lima Sur'"
      ]
     },
     "execution_count": 5,
     "metadata": {},
     "output_type": "execute_result"
    }
   ],
   "source": [
    "cadena"
   ]
  },
  {
   "cell_type": "code",
   "execution_count": 6,
   "id": "483efab3",
   "metadata": {},
   "outputs": [
    {
     "data": {
      "text/plain": [
       "'r'"
      ]
     },
     "execution_count": 6,
     "metadata": {},
     "output_type": "execute_result"
    }
   ],
   "source": [
    "cadena[5]"
   ]
  },
  {
   "cell_type": "code",
   "execution_count": 7,
   "id": "e27a2058",
   "metadata": {},
   "outputs": [
    {
     "data": {
      "text/plain": [
       "'d'"
      ]
     },
     "execution_count": 7,
     "metadata": {},
     "output_type": "execute_result"
    }
   ],
   "source": [
    "cadena[10]"
   ]
  },
  {
   "cell_type": "code",
   "execution_count": 8,
   "id": "4d61ea6d",
   "metadata": {},
   "outputs": [
    {
     "data": {
      "text/plain": [
       "' '"
      ]
     },
     "execution_count": 8,
     "metadata": {},
     "output_type": "execute_result"
    }
   ],
   "source": [
    "cadena[11]"
   ]
  },
  {
   "cell_type": "code",
   "execution_count": 9,
   "id": "0d654b86",
   "metadata": {},
   "outputs": [
    {
     "data": {
      "text/plain": [
       "'versi'"
      ]
     },
     "execution_count": 9,
     "metadata": {},
     "output_type": "execute_result"
    }
   ],
   "source": [
    "cadena[3:8]"
   ]
  },
  {
   "cell_type": "code",
   "execution_count": 10,
   "id": "331abb4f",
   "metadata": {},
   "outputs": [
    {
     "data": {
      "text/plain": [
       "45"
      ]
     },
     "execution_count": 10,
     "metadata": {},
     "output_type": "execute_result"
    }
   ],
   "source": [
    "len(cadena)"
   ]
  },
  {
   "cell_type": "code",
   "execution_count": 12,
   "id": "02deba5a",
   "metadata": {},
   "outputs": [
    {
     "data": {
      "text/plain": [
       "'UNIVERSIDAD NACIONAL TENCNOLÓGICA DE LIMA SUR'"
      ]
     },
     "execution_count": 12,
     "metadata": {},
     "output_type": "execute_result"
    }
   ],
   "source": [
    "cadena.upper()"
   ]
  },
  {
   "cell_type": "code",
   "execution_count": 13,
   "id": "10779193",
   "metadata": {},
   "outputs": [],
   "source": [
    "cadena=cadena.upper()"
   ]
  },
  {
   "cell_type": "code",
   "execution_count": 14,
   "id": "b1ec08a3",
   "metadata": {},
   "outputs": [
    {
     "data": {
      "text/plain": [
       "'UNIVERSIDAD NACIONAL TENCNOLÓGICA DE LIMA SUR'"
      ]
     },
     "execution_count": 14,
     "metadata": {},
     "output_type": "execute_result"
    }
   ],
   "source": [
    "cadena"
   ]
  },
  {
   "cell_type": "code",
   "execution_count": 15,
   "id": "3a42dda3",
   "metadata": {},
   "outputs": [
    {
     "data": {
      "text/plain": [
       "['UNIVERSIDAD', 'NACIONAL', 'TENCNOLÓGICA', 'DE', 'LIMA', 'SUR']"
      ]
     },
     "execution_count": 15,
     "metadata": {},
     "output_type": "execute_result"
    }
   ],
   "source": [
    "cadena.split()"
   ]
  },
  {
   "cell_type": "code",
   "execution_count": 17,
   "id": "6f83c432",
   "metadata": {},
   "outputs": [
    {
     "data": {
      "text/plain": [
       "['UNIVERSID', 'D N', 'CION', 'L TENCNOLÓGIC', ' DE LIM', ' SUR']"
      ]
     },
     "execution_count": 17,
     "metadata": {},
     "output_type": "execute_result"
    }
   ],
   "source": [
    "cadena.split(\"A\")"
   ]
  },
  {
   "cell_type": "code",
   "execution_count": 19,
   "id": "97ba3ee9",
   "metadata": {},
   "outputs": [
    {
     "name": "stdout",
     "output_type": "stream",
     "text": [
      "Buenas Tardes Sebastian Rakauskas\n"
     ]
    }
   ],
   "source": [
    "nombre=\"Sebastian Rakauskas\"\n",
    "print(\"Buenas Tardes \"+nombre)"
   ]
  },
  {
   "cell_type": "code",
   "execution_count": 21,
   "id": "86cfe2bd",
   "metadata": {},
   "outputs": [
    {
     "name": "stdout",
     "output_type": "stream",
     "text": [
      "hola Sebastian Rakauskas ya sé que tienes 19 años\n"
     ]
    }
   ],
   "source": [
    "nombre=\"Sebastian Rakauskas\"\n",
    "edad=19\n",
    "print(\"hola {} ya sé que tienes {} años\".format(nombre,edad))"
   ]
  },
  {
   "cell_type": "code",
   "execution_count": 23,
   "id": "688d4cbb",
   "metadata": {},
   "outputs": [
    {
     "name": "stdout",
     "output_type": "stream",
     "text": [
      "10/3 es = 3.3333333333333335\n",
      "10/3 es = 3.333\n"
     ]
    }
   ],
   "source": [
    "resultado=10/3\n",
    "print(\"10/3 es = {}\".format(resultado))\n",
    "print(\"10/3 es = {r:1.3f}\".format(r=resultado))"
   ]
  },
  {
   "cell_type": "code",
   "execution_count": 24,
   "id": "186a31f8",
   "metadata": {},
   "outputs": [
    {
     "name": "stdout",
     "output_type": "stream",
     "text": [
      "Buenos dias Jairon de los batyardigans, ya sé que tienes 20\n"
     ]
    }
   ],
   "source": [
    "nombre=\"Jairon de los batyardigans\"\n",
    "edad=20\n",
    "print(f\"Buenos dias {nombre}, ya sé que tienes {edad}\")"
   ]
  },
  {
   "cell_type": "code",
   "execution_count": 25,
   "id": "23b2a7ce",
   "metadata": {},
   "outputs": [
    {
     "name": "stdout",
     "output_type": "stream",
     "text": [
      "10/3 es = 3.3333333333333335\n",
      "10/3 es = 3.333\n"
     ]
    }
   ],
   "source": [
    "resultado=10/3\n",
    "print(f\"10/3 es = {resultado}\")\n",
    "print(f\"10/3 es = {resultado:1.3f}\")"
   ]
  },
  {
   "cell_type": "code",
   "execution_count": null,
   "id": "283bd13b",
   "metadata": {},
   "outputs": [],
   "source": []
  }
 ],
 "metadata": {
  "kernelspec": {
   "display_name": "Python 3 (ipykernel)",
   "language": "python",
   "name": "python3"
  },
  "language_info": {
   "codemirror_mode": {
    "name": "ipython",
    "version": 3
   },
   "file_extension": ".py",
   "mimetype": "text/x-python",
   "name": "python",
   "nbconvert_exporter": "python",
   "pygments_lexer": "ipython3",
   "version": "3.9.12"
  }
 },
 "nbformat": 4,
 "nbformat_minor": 5
}
