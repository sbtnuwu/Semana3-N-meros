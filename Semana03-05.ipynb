{
 "cells": [
  {
   "cell_type": "markdown",
   "id": "a49df41b",
   "metadata": {},
   "source": [
    "Semana 3\n",
    "Rakauskas Purca, Sebastian Alberto"
   ]
  },
  {
   "cell_type": "markdown",
   "id": "480d6642",
   "metadata": {},
   "source": [
    "1. Números\n",
    "2. Variables\n",
    "3. Manejo de cadenas\n",
    "4. Ingreso de datos por el teclado\n",
    "5. Operadores"
   ]
  },
  {
   "cell_type": "markdown",
   "id": "146cbc1c",
   "metadata": {},
   "source": [
    "5. Operadores"
   ]
  },
  {
   "cell_type": "code",
   "execution_count": 11,
   "id": "f0596738",
   "metadata": {},
   "outputs": [
    {
     "name": "stdout",
     "output_type": "stream",
     "text": [
      "13\n",
      "7\n",
      "30\n",
      "3.3333333333333335\n",
      "1\n",
      "3\n",
      "1000\n"
     ]
    }
   ],
   "source": [
    "numero1=10\n",
    "numero2=3\n",
    "suma=numero1+numero2\n",
    "resta=numero1-numero2\n",
    "multiplicacion=numero1*numero2\n",
    "division=numero1/numero2\n",
    "residuo=numero1%numero2\n",
    "cociente=numero1//numero2\n",
    "potencia=numero1**numero2\n",
    "print(suma)\n",
    "print(resta)\n",
    "print(multiplicacion)\n",
    "print(division)\n",
    "print(residuo)\n",
    "print(cociente)\n",
    "print(potencia)"
   ]
  },
  {
   "cell_type": "code",
   "execution_count": 12,
   "id": "da08d005",
   "metadata": {},
   "outputs": [
    {
     "name": "stdout",
     "output_type": "stream",
     "text": [
      "8\n"
     ]
    }
   ],
   "source": [
    "numero=5\n",
    "numero+=3\n",
    "print(numero)"
   ]
  },
  {
   "cell_type": "code",
   "execution_count": 13,
   "id": "8b087770",
   "metadata": {},
   "outputs": [
    {
     "name": "stdout",
     "output_type": "stream",
     "text": [
      "125\n"
     ]
    }
   ],
   "source": [
    "numero=5\n",
    "numero=numero**3\n",
    "print(numero)"
   ]
  },
  {
   "cell_type": "code",
   "execution_count": 14,
   "id": "0d6581e9",
   "metadata": {},
   "outputs": [
    {
     "data": {
      "text/plain": [
       "False"
      ]
     },
     "execution_count": 14,
     "metadata": {},
     "output_type": "execute_result"
    }
   ],
   "source": [
    "numero1=5\n",
    "numero2=2\n",
    "numero1==numero2"
   ]
  },
  {
   "cell_type": "code",
   "execution_count": 15,
   "id": "7f33206a",
   "metadata": {},
   "outputs": [
    {
     "data": {
      "text/plain": [
       "True"
      ]
     },
     "execution_count": 15,
     "metadata": {},
     "output_type": "execute_result"
    }
   ],
   "source": [
    "nombre1=\"Juan\"\n",
    "nombre2=\"Juan\"\n",
    "nombre1==nombre2"
   ]
  },
  {
   "cell_type": "code",
   "execution_count": 17,
   "id": "e0a63bcb",
   "metadata": {},
   "outputs": [],
   "source": [
    "numero1=5\n",
    "numero2=6\n",
    "numero3=7\n",
    "numero4=8"
   ]
  },
  {
   "cell_type": "code",
   "execution_count": 18,
   "id": "92a42e89",
   "metadata": {},
   "outputs": [
    {
     "data": {
      "text/plain": [
       "True"
      ]
     },
     "execution_count": 18,
     "metadata": {},
     "output_type": "execute_result"
    }
   ],
   "source": [
    "numero1<numero2"
   ]
  },
  {
   "cell_type": "code",
   "execution_count": 19,
   "id": "aa1fbd17",
   "metadata": {},
   "outputs": [
    {
     "data": {
      "text/plain": [
       "False"
      ]
     },
     "execution_count": 19,
     "metadata": {},
     "output_type": "execute_result"
    }
   ],
   "source": [
    "not(numero1<numero2)"
   ]
  },
  {
   "cell_type": "code",
   "execution_count": 20,
   "id": "fb7d2e46",
   "metadata": {},
   "outputs": [
    {
     "data": {
      "text/plain": [
       "True"
      ]
     },
     "execution_count": 20,
     "metadata": {},
     "output_type": "execute_result"
    }
   ],
   "source": [
    "numero1<numero2 and numero3<numero4"
   ]
  },
  {
   "cell_type": "code",
   "execution_count": 21,
   "id": "897e6a37",
   "metadata": {},
   "outputs": [
    {
     "data": {
      "text/plain": [
       "True"
      ]
     },
     "execution_count": 21,
     "metadata": {},
     "output_type": "execute_result"
    }
   ],
   "source": [
    "(numero1<numero2 and numero3<numero4) or (numero3>numero4)"
   ]
  },
  {
   "cell_type": "code",
   "execution_count": 22,
   "id": "6c7ba147",
   "metadata": {},
   "outputs": [],
   "source": [
    "aula=[\"Juan\",\"Daniel\",\"Ruben\"]\n",
    "alumno1=\"Diego\"\n",
    "alumno2=\"Juan\""
   ]
  },
  {
   "cell_type": "code",
   "execution_count": 23,
   "id": "a3fbe6d8",
   "metadata": {},
   "outputs": [
    {
     "data": {
      "text/plain": [
       "False"
      ]
     },
     "execution_count": 23,
     "metadata": {},
     "output_type": "execute_result"
    }
   ],
   "source": [
    "alumno1 in aula"
   ]
  },
  {
   "cell_type": "code",
   "execution_count": 24,
   "id": "f9a7f24d",
   "metadata": {},
   "outputs": [
    {
     "data": {
      "text/plain": [
       "True"
      ]
     },
     "execution_count": 24,
     "metadata": {},
     "output_type": "execute_result"
    }
   ],
   "source": [
    "alumno2 in aula"
   ]
  },
  {
   "cell_type": "code",
   "execution_count": 25,
   "id": "308e66a5",
   "metadata": {},
   "outputs": [
    {
     "data": {
      "text/plain": [
       "True"
      ]
     },
     "execution_count": 25,
     "metadata": {},
     "output_type": "execute_result"
    }
   ],
   "source": [
    "alumno1 not in aula"
   ]
  },
  {
   "cell_type": "code",
   "execution_count": 26,
   "id": "4ffaeb30",
   "metadata": {},
   "outputs": [
    {
     "data": {
      "text/plain": [
       "False"
      ]
     },
     "execution_count": 26,
     "metadata": {},
     "output_type": "execute_result"
    }
   ],
   "source": [
    "alumno2 not in aula"
   ]
  },
  {
   "cell_type": "code",
   "execution_count": 27,
   "id": "84c850ff",
   "metadata": {},
   "outputs": [],
   "source": [
    "aula1=[\"Juan\",\"Daniel\",\"Ruben\"]\n",
    "aula2=[\"Juan\",\"Daniel\",\"Ruben\"]\n",
    "aula3=aula1"
   ]
  },
  {
   "cell_type": "code",
   "execution_count": 29,
   "id": "ea2a7999",
   "metadata": {},
   "outputs": [
    {
     "data": {
      "text/plain": [
       "True"
      ]
     },
     "execution_count": 29,
     "metadata": {},
     "output_type": "execute_result"
    }
   ],
   "source": [
    "aula3 is aula1"
   ]
  },
  {
   "cell_type": "code",
   "execution_count": 30,
   "id": "9cdffc6c",
   "metadata": {},
   "outputs": [
    {
     "data": {
      "text/plain": [
       "False"
      ]
     },
     "execution_count": 30,
     "metadata": {},
     "output_type": "execute_result"
    }
   ],
   "source": [
    "aula3 is aula2"
   ]
  },
  {
   "cell_type": "code",
   "execution_count": 31,
   "id": "3bec78ac",
   "metadata": {},
   "outputs": [
    {
     "data": {
      "text/plain": [
       "False"
      ]
     },
     "execution_count": 31,
     "metadata": {},
     "output_type": "execute_result"
    }
   ],
   "source": [
    "aula2 is aula1"
   ]
  },
  {
   "cell_type": "code",
   "execution_count": 32,
   "id": "2fbf2e1c",
   "metadata": {},
   "outputs": [],
   "source": [
    "aula1.append(\"Diego\")"
   ]
  },
  {
   "cell_type": "code",
   "execution_count": 33,
   "id": "f2e148a4",
   "metadata": {},
   "outputs": [
    {
     "name": "stdout",
     "output_type": "stream",
     "text": [
      "['Juan', 'Daniel', 'Ruben', 'Diego']\n"
     ]
    }
   ],
   "source": [
    "print(aula1)"
   ]
  },
  {
   "cell_type": "code",
   "execution_count": 34,
   "id": "d5e34d22",
   "metadata": {},
   "outputs": [
    {
     "name": "stdout",
     "output_type": "stream",
     "text": [
      "['Juan', 'Daniel', 'Ruben']\n"
     ]
    }
   ],
   "source": [
    "print(aula2)"
   ]
  },
  {
   "cell_type": "code",
   "execution_count": 35,
   "id": "7b1163b2",
   "metadata": {},
   "outputs": [
    {
     "name": "stdout",
     "output_type": "stream",
     "text": [
      "['Juan', 'Daniel', 'Ruben', 'Diego']\n"
     ]
    }
   ],
   "source": [
    "print(aula3)"
   ]
  },
  {
   "cell_type": "code",
   "execution_count": null,
   "id": "2455a70c",
   "metadata": {},
   "outputs": [],
   "source": []
  }
 ],
 "metadata": {
  "kernelspec": {
   "display_name": "Python 3 (ipykernel)",
   "language": "python",
   "name": "python3"
  },
  "language_info": {
   "codemirror_mode": {
    "name": "ipython",
    "version": 3
   },
   "file_extension": ".py",
   "mimetype": "text/x-python",
   "name": "python",
   "nbconvert_exporter": "python",
   "pygments_lexer": "ipython3",
   "version": "3.9.12"
  }
 },
 "nbformat": 4,
 "nbformat_minor": 5
}
