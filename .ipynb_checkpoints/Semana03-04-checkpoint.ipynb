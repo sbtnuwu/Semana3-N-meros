{
 "cells": [
  {
   "cell_type": "markdown",
   "id": "29ff6d54",
   "metadata": {},
   "source": [
    "Semana 3\n",
    "Rakauskas Purca, Sebastian Alberto"
   ]
  },
  {
   "cell_type": "markdown",
   "id": "13a862b7",
   "metadata": {},
   "source": [
    "1. Números\n",
    "2. Variables\n",
    "3. Manejo de cadenas\n",
    "4. Ingreso de datos por el teclado\n",
    "5. Operadores"
   ]
  },
  {
   "cell_type": "markdown",
   "id": "4f78903f",
   "metadata": {},
   "source": [
    "4. Ingreso de datos por teclado"
   ]
  },
  {
   "cell_type": "code",
   "execution_count": 3,
   "id": "2c8e1dce",
   "metadata": {},
   "outputs": [
    {
     "name": "stdout",
     "output_type": "stream",
     "text": [
      "¿Cual es tu nombre?\n",
      "sebastian\n",
      "Hola sebastian\n"
     ]
    }
   ],
   "source": [
    "print(\"¿Cual es tu nombre?\")\n",
    "nombre=input()\n",
    "print(\"Hola \"+nombre)"
   ]
  },
  {
   "cell_type": "code",
   "execution_count": 5,
   "id": "62ee611f",
   "metadata": {},
   "outputs": [
    {
     "name": "stdout",
     "output_type": "stream",
     "text": [
      "número 1: \n",
      "9\n",
      "número 2: \n",
      "4\n",
      "El resultado es 13\n"
     ]
    }
   ],
   "source": [
    "print(\"número 1: \")\n",
    "numero1=input()\n",
    "print(\"número 2: \")\n",
    "numero2=input()\n",
    "numero3=int(numero1)+int(numero2)\n",
    "print(f\"El resultado es {numero3}\")"
   ]
  },
  {
   "cell_type": "code",
   "execution_count": null,
   "id": "a94b711b",
   "metadata": {},
   "outputs": [],
   "source": []
  }
 ],
 "metadata": {
  "kernelspec": {
   "display_name": "Python 3 (ipykernel)",
   "language": "python",
   "name": "python3"
  },
  "language_info": {
   "codemirror_mode": {
    "name": "ipython",
    "version": 3
   },
   "file_extension": ".py",
   "mimetype": "text/x-python",
   "name": "python",
   "nbconvert_exporter": "python",
   "pygments_lexer": "ipython3",
   "version": "3.9.12"
  }
 },
 "nbformat": 4,
 "nbformat_minor": 5
}
